{
 "cells": [
  {
   "cell_type": "markdown",
   "id": "a688a965",
   "metadata": {},
   "source": [
    "# Megatutorial 1: Explorative Datenanalyse\n",
    "\n",
    "In diesem Megatutorial beschäftigen wir uns mit der explorativen Datenanalyse in Python.\n",
    "\n",
    "\n",
    "## Aufgaben\n",
    "\n",
    "* Lade die Daten in `pandas`.\n",
    "* Führe eine deskriptive Datenanalyse mit geeigneten, statisches Maßen durch.\n",
    "* Führe eine deskriptive Datenanalyse mit Hilfe von geeigneten Visualisierungen durch."
   ]
  },
  {
   "cell_type": "code",
   "execution_count": 3,
   "id": "f9d2f9ea",
   "metadata": {},
   "outputs": [
    {
     "name": "stdout",
     "output_type": "stream",
     "text": [
      "Requirement already satisfied: pandas==2.2.3 in /workspaces/data-science-ue/.venv/lib/python3.12/site-packages (from -r ../requirements.txt (line 1)) (2.2.3)\n",
      "Requirement already satisfied: scikit-learn==1.6.1 in /workspaces/data-science-ue/.venv/lib/python3.12/site-packages (from -r ../requirements.txt (line 2)) (1.6.1)\n",
      "Requirement already satisfied: scipy==1.15.3 in /workspaces/data-science-ue/.venv/lib/python3.12/site-packages (from -r ../requirements.txt (line 3)) (1.15.3)\n",
      "Requirement already satisfied: matplotlib==3.10.3 in /workspaces/data-science-ue/.venv/lib/python3.12/site-packages (from -r ../requirements.txt (line 4)) (3.10.3)\n",
      "Requirement already satisfied: seaborn==0.13.2 in /workspaces/data-science-ue/.venv/lib/python3.12/site-packages (from -r ../requirements.txt (line 5)) (0.13.2)\n",
      "Requirement already satisfied: numpy>=1.26.0 in /workspaces/data-science-ue/.venv/lib/python3.12/site-packages (from pandas==2.2.3->-r ../requirements.txt (line 1)) (2.2.6)\n",
      "Requirement already satisfied: python-dateutil>=2.8.2 in /workspaces/data-science-ue/.venv/lib/python3.12/site-packages (from pandas==2.2.3->-r ../requirements.txt (line 1)) (2.9.0.post0)\n",
      "Requirement already satisfied: pytz>=2020.1 in /workspaces/data-science-ue/.venv/lib/python3.12/site-packages (from pandas==2.2.3->-r ../requirements.txt (line 1)) (2025.2)\n",
      "Requirement already satisfied: tzdata>=2022.7 in /workspaces/data-science-ue/.venv/lib/python3.12/site-packages (from pandas==2.2.3->-r ../requirements.txt (line 1)) (2025.2)\n",
      "Requirement already satisfied: joblib>=1.2.0 in /workspaces/data-science-ue/.venv/lib/python3.12/site-packages (from scikit-learn==1.6.1->-r ../requirements.txt (line 2)) (1.5.1)\n",
      "Requirement already satisfied: threadpoolctl>=3.1.0 in /workspaces/data-science-ue/.venv/lib/python3.12/site-packages (from scikit-learn==1.6.1->-r ../requirements.txt (line 2)) (3.6.0)\n",
      "Requirement already satisfied: contourpy>=1.0.1 in /workspaces/data-science-ue/.venv/lib/python3.12/site-packages (from matplotlib==3.10.3->-r ../requirements.txt (line 4)) (1.3.2)\n",
      "Requirement already satisfied: cycler>=0.10 in /workspaces/data-science-ue/.venv/lib/python3.12/site-packages (from matplotlib==3.10.3->-r ../requirements.txt (line 4)) (0.12.1)\n",
      "Requirement already satisfied: fonttools>=4.22.0 in /workspaces/data-science-ue/.venv/lib/python3.12/site-packages (from matplotlib==3.10.3->-r ../requirements.txt (line 4)) (4.58.1)\n",
      "Requirement already satisfied: kiwisolver>=1.3.1 in /workspaces/data-science-ue/.venv/lib/python3.12/site-packages (from matplotlib==3.10.3->-r ../requirements.txt (line 4)) (1.4.8)\n",
      "Requirement already satisfied: packaging>=20.0 in /workspaces/data-science-ue/.venv/lib/python3.12/site-packages (from matplotlib==3.10.3->-r ../requirements.txt (line 4)) (25.0)\n",
      "Requirement already satisfied: pillow>=8 in /workspaces/data-science-ue/.venv/lib/python3.12/site-packages (from matplotlib==3.10.3->-r ../requirements.txt (line 4)) (11.2.1)\n",
      "Requirement already satisfied: pyparsing>=2.3.1 in /workspaces/data-science-ue/.venv/lib/python3.12/site-packages (from matplotlib==3.10.3->-r ../requirements.txt (line 4)) (3.2.3)\n",
      "Requirement already satisfied: six>=1.5 in /workspaces/data-science-ue/.venv/lib/python3.12/site-packages (from python-dateutil>=2.8.2->pandas==2.2.3->-r ../requirements.txt (line 1)) (1.17.0)\n"
     ]
    }
   ],
   "source": [
    "!pip install -r ../requirements.txt"
   ]
  },
  {
   "cell_type": "markdown",
   "id": "c93aaaca",
   "metadata": {},
   "source": [
    "# Daten in pandas laden"
   ]
  },
  {
   "cell_type": "code",
   "execution_count": 4,
   "id": "980ca152",
   "metadata": {},
   "outputs": [],
   "source": [
    "from pandas import read_csv"
   ]
  },
  {
   "cell_type": "code",
   "execution_count": null,
   "id": "4a7b3b7f",
   "metadata": {},
   "outputs": [
    {
     "data": {
      "text/html": [
       "<div>\n",
       "<style scoped>\n",
       "    .dataframe tbody tr th:only-of-type {\n",
       "        vertical-align: middle;\n",
       "    }\n",
       "\n",
       "    .dataframe tbody tr th {\n",
       "        vertical-align: top;\n",
       "    }\n",
       "\n",
       "    .dataframe thead th {\n",
       "        text-align: right;\n",
       "    }\n",
       "</style>\n",
       "<table border=\"1\" class=\"dataframe\">\n",
       "  <thead>\n",
       "    <tr style=\"text-align: right;\">\n",
       "      <th></th>\n",
       "      <th>profile_pic</th>\n",
       "      <th>rel_num_numeric_char_username</th>\n",
       "      <th>words_fullname</th>\n",
       "      <th>rel_num_numeric_char_fullname</th>\n",
       "      <th>name=username</th>\n",
       "      <th>description_length</th>\n",
       "      <th>has_external_url</th>\n",
       "      <th>is_private</th>\n",
       "      <th>num_posts</th>\n",
       "      <th>num_followers</th>\n",
       "      <th>num_follows</th>\n",
       "      <th>is_fake</th>\n",
       "    </tr>\n",
       "  </thead>\n",
       "  <tbody>\n",
       "    <tr>\n",
       "      <th>0</th>\n",
       "      <td>yes</td>\n",
       "      <td>0.27</td>\n",
       "      <td>0</td>\n",
       "      <td>0.0</td>\n",
       "      <td>no</td>\n",
       "      <td>53</td>\n",
       "      <td>no</td>\n",
       "      <td>no</td>\n",
       "      <td>32</td>\n",
       "      <td>1000.0</td>\n",
       "      <td>955</td>\n",
       "      <td>no</td>\n",
       "    </tr>\n",
       "    <tr>\n",
       "      <th>1</th>\n",
       "      <td>yes</td>\n",
       "      <td>0.00</td>\n",
       "      <td>2</td>\n",
       "      <td>0.0</td>\n",
       "      <td>no</td>\n",
       "      <td>44</td>\n",
       "      <td>no</td>\n",
       "      <td>no</td>\n",
       "      <td>286</td>\n",
       "      <td>2740.0</td>\n",
       "      <td>533</td>\n",
       "      <td>no</td>\n",
       "    </tr>\n",
       "    <tr>\n",
       "      <th>2</th>\n",
       "      <td>yes</td>\n",
       "      <td>0.10</td>\n",
       "      <td>2</td>\n",
       "      <td>0.0</td>\n",
       "      <td>no</td>\n",
       "      <td>0</td>\n",
       "      <td>no</td>\n",
       "      <td>yes</td>\n",
       "      <td>13</td>\n",
       "      <td>159.0</td>\n",
       "      <td>98</td>\n",
       "      <td>no</td>\n",
       "    </tr>\n",
       "    <tr>\n",
       "      <th>3</th>\n",
       "      <td>yes</td>\n",
       "      <td>0.00</td>\n",
       "      <td>1</td>\n",
       "      <td>0.0</td>\n",
       "      <td>no</td>\n",
       "      <td>82</td>\n",
       "      <td>no</td>\n",
       "      <td>no</td>\n",
       "      <td>679</td>\n",
       "      <td>414.0</td>\n",
       "      <td>651</td>\n",
       "      <td>no</td>\n",
       "    </tr>\n",
       "    <tr>\n",
       "      <th>4</th>\n",
       "      <td>yes</td>\n",
       "      <td>0.00</td>\n",
       "      <td>2</td>\n",
       "      <td>0.0</td>\n",
       "      <td>no</td>\n",
       "      <td>0</td>\n",
       "      <td>no</td>\n",
       "      <td>yes</td>\n",
       "      <td>6</td>\n",
       "      <td>151.0</td>\n",
       "      <td>126</td>\n",
       "      <td>no</td>\n",
       "    </tr>\n",
       "  </tbody>\n",
       "</table>\n",
       "</div>"
      ],
      "text/plain": [
       "  profile_pic  rel_num_numeric_char_username  words_fullname  \\\n",
       "0         yes                           0.27               0   \n",
       "1         yes                           0.00               2   \n",
       "2         yes                           0.10               2   \n",
       "3         yes                           0.00               1   \n",
       "4         yes                           0.00               2   \n",
       "\n",
       "   rel_num_numeric_char_fullname name=username  description_length  \\\n",
       "0                            0.0            no                  53   \n",
       "1                            0.0            no                  44   \n",
       "2                            0.0            no                   0   \n",
       "3                            0.0            no                  82   \n",
       "4                            0.0            no                   0   \n",
       "\n",
       "  has_external_url is_private  num_posts  num_followers  num_follows is_fake  \n",
       "0               no         no         32         1000.0          955      no  \n",
       "1               no         no        286         2740.0          533      no  \n",
       "2               no        yes         13          159.0           98      no  \n",
       "3               no         no        679          414.0          651      no  \n",
       "4               no        yes          6          151.0          126      no  "
      ]
     },
     "execution_count": 10,
     "metadata": {},
     "output_type": "execute_result"
    }
   ],
   "source": [
    "data = read_csv(\n",
    "    \"../data/fake_profiles.csv\",\n",
    "    sep=\",\",\n",
    "    decimal=\".\",\n",
    "    skiprows=None, #0, 1, 10\n",
    "    usecols=range(1, 13)\n",
    "    )\n",
    "\n",
    "data.head(5)"
   ]
  },
  {
   "cell_type": "markdown",
   "id": "23e69a0f",
   "metadata": {},
   "source": [
    "sep = seperation;\n",
    "decimal = Dezimalpunkte;\n",
    "skiprows = geskippte Spalten"
   ]
  },
  {
   "cell_type": "markdown",
   "id": "db0e2d10",
   "metadata": {},
   "source": []
  }
 ],
 "metadata": {
  "kernelspec": {
   "display_name": ".venv",
   "language": "python",
   "name": "python3"
  },
  "language_info": {
   "codemirror_mode": {
    "name": "ipython",
    "version": 3
   },
   "file_extension": ".py",
   "mimetype": "text/x-python",
   "name": "python",
   "nbconvert_exporter": "python",
   "pygments_lexer": "ipython3",
   "version": "3.12.1"
  }
 },
 "nbformat": 4,
 "nbformat_minor": 5
}
