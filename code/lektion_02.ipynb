{
 "cells": [
  {
   "cell_type": "markdown",
   "id": "a688a965",
   "metadata": {},
   "source": [
    "# Megatutorial 1: Explorative Datenanalyse\n",
    "\n",
    "In diesem Megatutorial beschäftigen wir uns mit der explorativen Datenanalyse in Python.\n",
    "\n",
    "\n",
    "## Aufgaben\n",
    "\n",
    "* Lade die Daten in `pandas`.\n",
    "* Führe eine deskriptive Datenanalyse mit geeigneten, statisches Maßen durch.\n",
    "* Führe eine deskriptive Datenanalyse mit Hilfe von geeigneten Visualisierungen durch."
   ]
  },
  {
   "cell_type": "markdown",
   "id": "b14bd7ab",
   "metadata": {},
   "source": []
  }
 ],
 "metadata": {
  "kernelspec": {
   "display_name": ".venv",
   "language": "python",
   "name": "python3"
  },
  "language_info": {
   "name": "python",
   "version": "3.12.1"
  }
 },
 "nbformat": 4,
 "nbformat_minor": 5
}
