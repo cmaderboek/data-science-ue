{
 "cells": [
  {
   "cell_type": "markdown",
   "id": "672d81fd",
   "metadata": {},
   "source": [
    "# Megatutorial 4: Regression"
   ]
  },
  {
   "cell_type": "code",
   "execution_count": 1,
   "id": "f716ab36",
   "metadata": {},
   "outputs": [],
   "source": [
    "from pandas import read_csv\n",
    "\n",
    "from sklearn.impute import SimpleImputer\n",
    "from sklearn.preprocessing import LabelEncoder\n",
    "from sklearn.model_selection import train_test_split\n",
    "\n",
    "from sklearn.linear_model import LinearRegression\n",
    "from sklearn.tree import DecisionTreeRegressor\n",
    "\n",
    "from sklearn.metrics import r2_score, mean_squared_error, root_mean_squared_error, mean_absolute_error"
   ]
  },
  {
   "cell_type": "markdown",
   "id": "cd30bfd9",
   "metadata": {},
   "source": [
    "## Daten laden"
   ]
  },
  {
   "cell_type": "code",
   "execution_count": 2,
   "id": "e6723355",
   "metadata": {},
   "outputs": [],
   "source": [
    "data = read_csv(\"../data/bikesharing.csv\")"
   ]
  },
  {
   "cell_type": "markdown",
   "id": "48cf57e3",
   "metadata": {},
   "source": [
    "## Data Proprocessing"
   ]
  },
  {
   "cell_type": "markdown",
   "id": "92a9ca77",
   "metadata": {},
   "source": [
    "### Imputing"
   ]
  },
  {
   "cell_type": "code",
   "execution_count": 3,
   "id": "8343eaf7",
   "metadata": {},
   "outputs": [],
   "source": [
    "imputer = SimpleImputer(strategy=\"median\")\n",
    "imputer.fit(data[[\"hum\"]])\n",
    "data[\"hum\"] = imputer.transform(data[[\"hum\"]])"
   ]
  },
  {
   "cell_type": "code",
   "execution_count": 4,
   "id": "71f24177",
   "metadata": {},
   "outputs": [
    {
     "data": {
      "text/plain": [
       "pandas.core.frame.DataFrame"
      ]
     },
     "execution_count": 4,
     "metadata": {},
     "output_type": "execute_result"
    }
   ],
   "source": [
    "type(data[[\"hum\"]])"
   ]
  },
  {
   "cell_type": "code",
   "execution_count": 5,
   "id": "04fd418b",
   "metadata": {},
   "outputs": [
    {
     "name": "stdout",
     "output_type": "stream",
     "text": [
      "<class 'pandas.core.frame.DataFrame'>\n",
      "RangeIndex: 731 entries, 0 to 730\n",
      "Data columns (total 16 columns):\n",
      " #   Column      Non-Null Count  Dtype  \n",
      "---  ------      --------------  -----  \n",
      " 0   Unnamed: 0  731 non-null    int64  \n",
      " 1   season      731 non-null    object \n",
      " 2   holiday     731 non-null    object \n",
      " 3   weekday     731 non-null    object \n",
      " 4   workingday  731 non-null    object \n",
      " 5   weathersit  731 non-null    object \n",
      " 6   temp        731 non-null    float64\n",
      " 7   atemp       731 non-null    float64\n",
      " 8   hum         731 non-null    float64\n",
      " 9   windspeed   731 non-null    float64\n",
      " 10  casual      731 non-null    int64  \n",
      " 11  registered  731 non-null    int64  \n",
      " 12  cnt         731 non-null    int64  \n",
      " 13  day         731 non-null    int64  \n",
      " 14  month       731 non-null    int64  \n",
      " 15  year        731 non-null    int64  \n",
      "dtypes: float64(4), int64(7), object(5)\n",
      "memory usage: 91.5+ KB\n"
     ]
    }
   ],
   "source": [
    "data.info()"
   ]
  },
  {
   "cell_type": "markdown",
   "id": "c4136287",
   "metadata": {},
   "source": [
    "### Encoding"
   ]
  },
  {
   "cell_type": "code",
   "execution_count": 6,
   "id": "5c17bbc9",
   "metadata": {},
   "outputs": [],
   "source": [
    "season_encoder = LabelEncoder()\n",
    "data[\"season\"] = season_encoder.fit_transform(data[\"season\"])\n",
    "\n",
    "#### holiday\n",
    "holiday_encoder = LabelEncoder()\n",
    "data[\"holiday\"] = holiday_encoder.fit_transform(data[\"holiday\"])\n",
    "\n",
    "#### weekday\n",
    "weekday_encoder = LabelEncoder()\n",
    "data[\"weekday\"] = weekday_encoder.fit_transform(data[\"weekday\"])\n",
    "\n",
    "#### workingday\n",
    "workingday_encoder = LabelEncoder()\n",
    "data[\"workingday\"] = workingday_encoder.fit_transform(data[\"workingday\"])\n",
    "\n",
    "#### weathersit\n",
    "weathersit_encoder = LabelEncoder()\n",
    "data[\"weathersit\"] = weathersit_encoder.fit_transform(data[\"weathersit\"])"
   ]
  },
  {
   "cell_type": "code",
   "execution_count": 7,
   "id": "8e5c28c0",
   "metadata": {},
   "outputs": [
    {
     "data": {
      "text/plain": [
       "0      1\n",
       "1      1\n",
       "2      0\n",
       "3      0\n",
       "4      0\n",
       "      ..\n",
       "726    1\n",
       "727    1\n",
       "728    1\n",
       "729    0\n",
       "730    1\n",
       "Name: weathersit, Length: 731, dtype: int64"
      ]
     },
     "execution_count": 7,
     "metadata": {},
     "output_type": "execute_result"
    }
   ],
   "source": [
    "data[\"season\"]\n",
    "data[\"holiday\"]\n",
    "data[\"weekday\"]\n",
    "data[\"workingday\"]\n",
    "data[\"weathersit\"]"
   ]
  },
  {
   "cell_type": "code",
   "execution_count": 8,
   "id": "467fbba2",
   "metadata": {},
   "outputs": [
    {
     "name": "stdout",
     "output_type": "stream",
     "text": [
      "<class 'pandas.core.frame.DataFrame'>\n",
      "RangeIndex: 731 entries, 0 to 730\n",
      "Empty DataFrame\n"
     ]
    }
   ],
   "source": [
    "data.select_dtypes(exclude=\"number\").info()"
   ]
  },
  {
   "cell_type": "markdown",
   "id": "89b3b351",
   "metadata": {},
   "source": [
    "### Feature / Target Split"
   ]
  },
  {
   "cell_type": "code",
   "execution_count": 9,
   "id": "91ad88c7",
   "metadata": {},
   "outputs": [
    {
     "data": {
      "text/plain": [
       "Index(['Unnamed: 0', 'season', 'holiday', 'weekday', 'workingday',\n",
       "       'weathersit', 'temp', 'atemp', 'hum', 'windspeed', 'casual',\n",
       "       'registered', 'cnt', 'day', 'month', 'year'],\n",
       "      dtype='object')"
      ]
     },
     "execution_count": 9,
     "metadata": {},
     "output_type": "execute_result"
    }
   ],
   "source": [
    "data.columns"
   ]
  },
  {
   "cell_type": "code",
   "execution_count": 10,
   "id": "71b3902e",
   "metadata": {},
   "outputs": [],
   "source": [
    "features = [\n",
    "        'season', 'holiday', 'weekday',\n",
    "       'weathersit', 'temp', 'atemp', 'hum', 'windspeed', 'month'\n",
    "       ]\n",
    "\n",
    "target = ['cnt']\n",
    "\n",
    "X = data[features]\n",
    "y = data[target]"
   ]
  },
  {
   "cell_type": "markdown",
   "id": "b17112eb",
   "metadata": {},
   "source": [
    "### Train / Test Slit"
   ]
  },
  {
   "cell_type": "code",
   "execution_count": 11,
   "id": "0a0b176d",
   "metadata": {},
   "outputs": [],
   "source": [
    "X_train, X_test, y_train, y_test = train_test_split(X, y, test_size=0.4)"
   ]
  },
  {
   "cell_type": "code",
   "execution_count": 12,
   "id": "ecaaa408",
   "metadata": {},
   "outputs": [
    {
     "data": {
      "text/plain": [
       "((438, 9), (293, 9), (438, 1), (293, 1))"
      ]
     },
     "execution_count": 12,
     "metadata": {},
     "output_type": "execute_result"
    }
   ],
   "source": [
    "X_train.shape, X_test.shape, y_train.shape, y_test.shape"
   ]
  },
  {
   "cell_type": "markdown",
   "id": "96c92639",
   "metadata": {},
   "source": [
    "# Modelling"
   ]
  },
  {
   "cell_type": "markdown",
   "id": "af25de24",
   "metadata": {},
   "source": [
    "## Lineare Regression"
   ]
  },
  {
   "cell_type": "code",
   "execution_count": 13,
   "id": "f0adfc74",
   "metadata": {},
   "outputs": [],
   "source": [
    "linear_model = LinearRegression()\n",
    "linear_model.fit(X_train, y_train)\n",
    "\n",
    "predictions = linear_model.predict(X_test)"
   ]
  },
  {
   "cell_type": "code",
   "execution_count": 14,
   "id": "27c08be8",
   "metadata": {},
   "outputs": [
    {
     "name": "stdout",
     "output_type": "stream",
     "text": [
      "R2 0.4818581107029346 , RMSE 1370.923663442935 , MAE 1145.6080526824182\n"
     ]
    }
   ],
   "source": [
    "print(\n",
    "    \"R2\", r2_score(y_test, predictions),\n",
    "    \", RMSE\", root_mean_squared_error(y_test, predictions),\n",
    "    \", MAE\", mean_absolute_error(y_test, predictions)\n",
    ")"
   ]
  },
  {
   "cell_type": "code",
   "execution_count": null,
   "id": "98565481",
   "metadata": {},
   "outputs": [],
   "source": []
  }
 ],
 "metadata": {
  "kernelspec": {
   "display_name": ".venv",
   "language": "python",
   "name": "python3"
  },
  "language_info": {
   "codemirror_mode": {
    "name": "ipython",
    "version": 3
   },
   "file_extension": ".py",
   "mimetype": "text/x-python",
   "name": "python",
   "nbconvert_exporter": "python",
   "pygments_lexer": "ipython3",
   "version": "3.12.1"
  }
 },
 "nbformat": 4,
 "nbformat_minor": 5
}
