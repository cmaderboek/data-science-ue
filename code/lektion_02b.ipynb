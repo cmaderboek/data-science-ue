{
 "cells": [
  {
   "cell_type": "markdown",
   "id": "25e01e71",
   "metadata": {},
   "source": [
    "# Megatutorial 2: Clustering"
   ]
  },
  {
   "cell_type": "code",
   "execution_count": 71,
   "id": "3f7bb19a",
   "metadata": {},
   "outputs": [],
   "source": [
    "from pandas import read_csv"
   ]
  },
  {
   "cell_type": "code",
   "execution_count": 72,
   "id": "23cad473",
   "metadata": {},
   "outputs": [],
   "source": [
    "data = read_csv(\"../data/fake_profiles.csv\")"
   ]
  },
  {
   "cell_type": "code",
   "execution_count": 73,
   "id": "125ca94c",
   "metadata": {},
   "outputs": [
    {
     "name": "stdout",
     "output_type": "stream",
     "text": [
      "<class 'pandas.core.frame.DataFrame'>\n",
      "RangeIndex: 576 entries, 0 to 575\n",
      "Data columns (total 13 columns):\n",
      " #   Column                         Non-Null Count  Dtype  \n",
      "---  ------                         --------------  -----  \n",
      " 0   Unnamed: 0                     576 non-null    int64  \n",
      " 1   profile_pic                    576 non-null    object \n",
      " 2   rel_num_numeric_char_username  576 non-null    float64\n",
      " 3   words_fullname                 576 non-null    int64  \n",
      " 4   rel_num_numeric_char_fullname  576 non-null    float64\n",
      " 5   name=username                  576 non-null    object \n",
      " 6   description_length             576 non-null    int64  \n",
      " 7   has_external_url               576 non-null    object \n",
      " 8   is_private                     576 non-null    object \n",
      " 9   num_posts                      576 non-null    int64  \n",
      " 10  num_followers                  556 non-null    float64\n",
      " 11  num_follows                    576 non-null    int64  \n",
      " 12  is_fake                        576 non-null    object \n",
      "dtypes: float64(3), int64(5), object(5)\n",
      "memory usage: 58.6+ KB\n"
     ]
    }
   ],
   "source": [
    "data.info()"
   ]
  },
  {
   "cell_type": "code",
   "execution_count": 74,
   "id": "5acf6f60",
   "metadata": {},
   "outputs": [
    {
     "data": {
      "text/plain": [
       "Index(['Unnamed: 0', 'profile_pic', 'rel_num_numeric_char_username',\n",
       "       'words_fullname', 'rel_num_numeric_char_fullname', 'name=username',\n",
       "       'description_length', 'has_external_url', 'is_private', 'num_posts',\n",
       "       'num_followers', 'num_follows', 'is_fake'],\n",
       "      dtype='object')"
      ]
     },
     "execution_count": 74,
     "metadata": {},
     "output_type": "execute_result"
    }
   ],
   "source": [
    "data.columns"
   ]
  },
  {
   "cell_type": "code",
   "execution_count": 75,
   "id": "ff3a7831",
   "metadata": {},
   "outputs": [
    {
     "data": {
      "text/plain": [
       "array([[0, 'yes', 0.27, ..., 1000.0, 955, 'no'],\n",
       "       [1, 'yes', 0.0, ..., 2740.0, 533, 'no'],\n",
       "       [2, 'yes', 0.1, ..., 159.0, 98, 'no'],\n",
       "       ...,\n",
       "       [573, 'yes', 0.57, ..., 96.0, 339, 'yes'],\n",
       "       [574, 'yes', 0.57, ..., 57.0, 73, 'yes'],\n",
       "       [575, 'yes', 0.27, ..., 150.0, 487, 'yes']],\n",
       "      shape=(576, 13), dtype=object)"
      ]
     },
     "execution_count": 75,
     "metadata": {},
     "output_type": "execute_result"
    }
   ],
   "source": [
    "data.values"
   ]
  },
  {
   "cell_type": "code",
   "execution_count": 76,
   "id": "3eb10bce",
   "metadata": {},
   "outputs": [],
   "source": [
    "target = [\"is_fake\"]\n",
    "\n",
    "features= [\n",
    "    'rel_num_numeric_char_username', \n",
    "    'words_fullname', \n",
    "    'rel_num_numeric_char_fullname', \n",
    "    'description_length' \n",
    "    ]\n"
   ]
  },
  {
   "cell_type": "code",
   "execution_count": 77,
   "id": "67e156a0",
   "metadata": {},
   "outputs": [],
   "source": [
    "y = data[target]\n",
    "X = data[features]"
   ]
  },
  {
   "cell_type": "markdown",
   "id": "f20669a6",
   "metadata": {},
   "source": [
    "# Clustering in Scikit-Learn"
   ]
  },
  {
   "cell_type": "code",
   "execution_count": 78,
   "id": "a83fc48b",
   "metadata": {},
   "outputs": [],
   "source": [
    "from sklearn.cluster import KMeans, AgglomerativeClustering"
   ]
  },
  {
   "cell_type": "code",
   "execution_count": 79,
   "id": "cd672ae9",
   "metadata": {},
   "outputs": [],
   "source": [
    "# zwei cluster weil fake und nicht fake\n",
    "kmeans_engine = KMeans(n_clusters=2)\n",
    "\n",
    "kmeans_engine.fit(X)\n",
    "clusters = kmeans_engine.predict(X)"
   ]
  },
  {
   "cell_type": "code",
   "execution_count": null,
   "id": "c3be120e",
   "metadata": {},
   "outputs": [
    {
     "name": "stderr",
     "output_type": "stream",
     "text": [
      "/workspaces/data-science-ue/.venv/lib/python3.12/site-packages/pandas/plotting/_matplotlib/core.py:1351: UserWarning: No data for colormapping provided via 'c'. Parameters 'cmap' will be ignored\n",
      "  scatter = ax.scatter(\n"
     ]
    },
    {
     "data": {
      "text/plain": [
       "<Axes: xlabel='description_length', ylabel='words_fullname'>"
      ]
     },
     "execution_count": 80,
     "metadata": {},
     "output_type": "execute_result"
    },
    {
     "data": {
      "image/png": "[encoded data removed]",
      "text/plain": [
       "<Figure size 640x480 with 1 Axes>"
      ]
     },
     "metadata": {},
     "output_type": "display_data"
    }
   ],
   "source": [
    "X.plot(\n",
    "    kind=\"scatter\", \n",
    "    x=\"description_length\", \n",
    "    y=\"words_fullname\", \n",
    "    c=\"cluster\", \n",
    "    cmap=\"inferno\"\n",
    "    )"
   ]
  },
  {
   "cell_type": "code",
   "execution_count": 82,
   "id": "d85e949f",
   "metadata": {},
   "outputs": [
    {
     "data": {
      "text/plain": [
       "array([0, 0, 0, 1, 0, 1, 0, 0, 0, 0, 0, 0, 0, 1, 1, 0, 0, 0, 0, 1, 0, 0,\n",
       "       0, 0, 0, 1, 0, 1, 1, 1, 1, 0, 0, 0, 0, 0, 0, 1, 1, 0, 0, 0, 0, 1,\n",
       "       0, 1, 0, 0, 0, 0, 1, 0, 1, 0, 1, 0, 0, 0, 0, 0, 0, 0, 0, 0, 1, 0,\n",
       "       0, 0, 0, 0, 0, 0, 0, 0, 0, 0, 0, 0, 0, 0, 0, 0, 0, 0, 0, 0, 1, 0,\n",
       "       0, 0, 0, 0, 0, 0, 0, 0, 0, 0, 0, 0, 0, 0, 0, 0, 0, 1, 1, 1, 0, 0,\n",
       "       0, 0, 1, 0, 0, 0, 0, 0, 1, 0, 0, 0, 0, 0, 0, 0, 0, 0, 0, 0, 1, 0,\n",
       "       1, 1, 0, 0, 0, 0, 0, 1, 0, 0, 0, 0, 1, 0, 0, 0, 1, 1, 0, 0, 0, 1,\n",
       "       0, 0, 0, 0, 0, 0, 0, 1, 0, 0, 1, 1, 0, 0, 0, 0, 0, 0, 1, 1, 0, 0,\n",
       "       1, 0, 0, 0, 0, 0, 0, 0, 0, 0, 0, 0, 0, 0, 0, 0, 0, 1, 1, 0, 0, 0,\n",
       "       1, 0, 0, 0, 0, 0, 0, 1, 0, 0, 0, 1, 0, 0, 0, 1, 1, 0, 0, 0, 1, 0,\n",
       "       0, 0, 0, 0, 0, 1, 1, 0, 0, 0, 0, 0, 0, 0, 1, 1, 0, 0, 0, 0, 0, 0,\n",
       "       1, 0, 0, 1, 0, 0, 0, 0, 0, 0, 0, 0, 0, 0, 0, 0, 0, 0, 1, 0, 0, 0,\n",
       "       0, 0, 0, 0, 0, 0, 0, 0, 1, 0, 0, 0, 0, 0, 0, 0, 0, 0, 0, 0, 0, 0,\n",
       "       0, 0, 0, 0, 0, 0, 0, 0, 0, 0, 0, 0, 0, 0, 0, 0, 0, 0, 0, 0, 0, 0,\n",
       "       0, 0, 0, 0, 0, 0, 0, 0, 0, 0, 0, 0, 0, 0, 0, 0, 0, 0, 0, 0, 0, 0,\n",
       "       0, 0, 0, 0, 0, 0, 0, 0, 0, 0, 0, 0, 0, 0, 0, 0, 0, 0, 0, 0, 0, 0,\n",
       "       0, 0, 0, 0, 0, 0, 0, 0, 0, 0, 0, 0, 0, 0, 1, 0, 0, 0, 0, 0, 0, 0,\n",
       "       0, 0, 0, 0, 0, 0, 1, 0, 0, 0, 0, 0, 0, 0, 0, 0, 0, 0, 0, 0, 0, 0,\n",
       "       0, 0, 1, 0, 0, 0, 0, 0, 0, 0, 0, 0, 0, 0, 0, 0, 0, 0, 1, 0, 0, 0,\n",
       "       0, 0, 0, 0, 0, 0, 0, 0, 0, 0, 0, 0, 0, 0, 0, 0, 0, 0, 0, 0, 0, 0,\n",
       "       0, 0, 1, 0, 0, 0, 0, 0, 0, 0, 0, 0, 0, 0, 0, 0, 0, 0, 0, 0, 0, 0,\n",
       "       0, 0, 0, 0, 0, 0, 0, 0, 0, 0, 0, 0, 0, 0, 0, 0, 0, 0, 0, 0, 0, 0,\n",
       "       0, 0, 0, 0, 0, 0, 0, 0, 0, 0, 0, 0, 0, 0, 0, 0, 0, 0, 0, 0, 0, 0,\n",
       "       0, 0, 0, 0, 0, 0, 0, 0, 0, 0, 0, 0, 0, 0, 0, 0, 0, 0, 0, 0, 0, 0,\n",
       "       0, 0, 0, 0, 0, 0, 0, 0, 0, 0, 0, 0, 0, 0, 0, 0, 0, 0, 0, 0, 0, 0,\n",
       "       0, 0, 0, 0, 0, 0, 0, 0, 0, 0, 0, 0, 0, 0, 0, 0, 0, 0, 0, 0, 0, 0,\n",
       "       0, 0, 0, 0])"
      ]
     },
     "execution_count": 82,
     "metadata": {},
     "output_type": "execute_result"
    }
   ],
   "source": [
    "hierarchical_engine = AgglomerativeClustering(n_clusters=2)\n",
    "\n",
    "hierarchical_engine.fit_predict(X)"
   ]
  },
  {
   "cell_type": "markdown",
   "id": "26d40941",
   "metadata": {},
   "source": [
    "## Clustering in Scipy"
   ]
  },
  {
   "cell_type": "code",
   "execution_count": 87,
   "id": "4c7af4d3",
   "metadata": {},
   "outputs": [],
   "source": [
    "from scipy.cluster import hierarchy\n",
    "from matplotlib import pyplot as plt"
   ]
  },
  {
   "cell_type": "code",
   "execution_count": 88,
   "id": "2abb50e8",
   "metadata": {},
   "outputs": [],
   "source": [
    "Z = hierarchy.linkage(X, method=\"ward\")"
   ]
  },
  {
   "cell_type": "code",
   "execution_count": 89,
   "id": "cb543428",
   "metadata": {},
   "outputs": [
    {
     "data": {
      "image/png": "[encoded data removed]",
      "text/plain": [
       "<Figure size 640x480 with 1 Axes>"
      ]
     },
     "metadata": {},
     "output_type": "display_data"
    }
   ],
   "source": [
    "hierarchy.dendrogram(Z)\n",
    "plt.show()"
   ]
  },
  {
   "cell_type": "code",
   "execution_count": null,
   "id": "d303adbe",
   "metadata": {},
   "outputs": [],
   "source": []
  }
 ],
 "metadata": {
  "kernelspec": {
   "display_name": ".venv",
   "language": "python",
   "name": "python3"
  },
  "language_info": {
   "codemirror_mode": {
    "name": "ipython",
    "version": 3
   },
   "file_extension": ".py",
   "mimetype": "text/x-python",
   "name": "python",
   "nbconvert_exporter": "python",
   "pygments_lexer": "ipython3",
   "version": "3.12.1"
  }
 },
 "nbformat": 4,
 "nbformat_minor": 5
}
